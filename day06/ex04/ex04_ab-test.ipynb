{
 "cells": [
  {
   "cell_type": "markdown",
   "id": "a75615f5",
   "metadata": {},
   "source": [
    "# Exercise 04 : A/B-testing"
   ]
  },
  {
   "cell_type": "markdown",
   "id": "a8a118e8",
   "metadata": {},
   "source": [
    "## Imports"
   ]
  },
  {
   "cell_type": "code",
   "execution_count": 1,
   "id": "92de8df8",
   "metadata": {},
   "outputs": [],
   "source": [
    "import pandas as pd\n",
    "import sqlite3"
   ]
  },
  {
   "cell_type": "markdown",
   "id": "5e416be7",
   "metadata": {},
   "source": [
    "## Create a connection to the database using the library sqlite3"
   ]
  },
  {
   "cell_type": "code",
   "execution_count": 2,
   "id": "3fead74a",
   "metadata": {},
   "outputs": [],
   "source": [
    "sql_con = sqlite3.connect('../data/checking-logs.sqlite.sqlite copy')"
   ]
  },
  {
   "cell_type": "markdown",
   "id": "71f962bc",
   "metadata": {},
   "source": [
    "## Using only one query for each of the groups, create two dataframes: test_results and control_results with the columns time and avg_diff and only two rows\n",
    "- time should have the values: after and before\n",
    "- avg_diff contains the average delta among all the users for the time period before each of them made their first visit to the page and afterward\n",
    "- only take into account the users that have observations before and after\n",
    "- we still are not using the lab ’project1’"
   ]
  },
  {
   "cell_type": "code",
   "execution_count": null,
   "id": "3bdfdd1f",
   "metadata": {},
   "outputs": [],
   "source": [
    "query=\"\"\"\n",
    "\n",
    "SELECT\n",
    "    'before' AS time,\n",
    "    AVG(CAST((julianday(test.first_commit_ts) - julianday(deadlines.deadlines, 'unixepoch')) * 24 AS INT)) AS avg_diff\n",
    "FROM\n",
    "    test\n",
    "INNER JOIN \n",
    "    deadlines\n",
    "ON\n",
    "    test.labname != 'project1'\n",
    "    AND test.labname = deadlines.labs\n",
    "WHERE\n",
    "    julianday(test.first_commit_ts) < julianday(test.first_view_ts)\n",
    "\n",
    "\n",
    "UNION\n",
    "\n",
    "\n",
    "SELECT\n",
    "    'after' AS time,\n",
    "    AVG(CAST((julianday(test.first_commit_ts) - julianday(deadlines.deadlines, 'unixepoch')) * 24 AS INT)) AS avg_diff\n",
    "FROM\n",
    "    test\n",
    "INNER JOIN \n",
    "    deadlines\n",
    "ON\n",
    "    test.labname != 'project1'\n",
    "    AND test.labname = deadlines.labs\n",
    "WHERE\n",
    "    julianday(test.first_commit_ts) > julianday(test.first_view_ts)\n",
    "\"\"\"\n",
    "\n",
    "test_results = pd.read_sql(query, sql_con)\n",
    "test_results"
   ]
  },
  {
   "cell_type": "code",
   "execution_count": 3,
   "id": "f37291f6",
   "metadata": {},
   "outputs": [
    {
     "data": {
      "text/html": [
       "<div>\n",
       "<style scoped>\n",
       "    .dataframe tbody tr th:only-of-type {\n",
       "        vertical-align: middle;\n",
       "    }\n",
       "\n",
       "    .dataframe tbody tr th {\n",
       "        vertical-align: top;\n",
       "    }\n",
       "\n",
       "    .dataframe thead th {\n",
       "        text-align: right;\n",
       "    }\n",
       "</style>\n",
       "<table border=\"1\" class=\"dataframe\">\n",
       "  <thead>\n",
       "    <tr style=\"text-align: right;\">\n",
       "      <th></th>\n",
       "      <th>time</th>\n",
       "      <th>avg_diff</th>\n",
       "    </tr>\n",
       "  </thead>\n",
       "  <tbody>\n",
       "    <tr>\n",
       "      <th>0</th>\n",
       "      <td>after</td>\n",
       "      <td>-112.710526</td>\n",
       "    </tr>\n",
       "    <tr>\n",
       "      <th>1</th>\n",
       "      <td>before</td>\n",
       "      <td>-99.464286</td>\n",
       "    </tr>\n",
       "  </tbody>\n",
       "</table>\n",
       "</div>"
      ],
      "text/plain": [
       "     time    avg_diff\n",
       "0   after -112.710526\n",
       "1  before  -99.464286"
      ]
     },
     "execution_count": 3,
     "metadata": {},
     "output_type": "execute_result"
    }
   ],
   "source": [
    "query=\"\"\"\n",
    "SELECT\n",
    "    'before' AS time,\n",
    "    AVG(CAST((julianday(control.first_commit_ts) - julianday(deadlines.deadlines, 'unixepoch')) * 24 AS INT)) AS avg_diff\n",
    "FROM\n",
    "    control\n",
    "INNER JOIN \n",
    "    deadlines\n",
    "ON\n",
    "    control.labname != 'project1'\n",
    "    AND control.labname = deadlines.labs\n",
    "WHERE\n",
    "    julianday(control.first_commit_ts) < julianday(control.first_view_ts)\n",
    "\n",
    "\n",
    "UNION\n",
    "\n",
    "\n",
    "SELECT\n",
    "    'after' AS time,\n",
    "    AVG(CAST((julianday(control.first_commit_ts) - julianday(deadlines.deadlines, 'unixepoch')) * 24 AS INT)) AS avg_diff\n",
    "FROM\n",
    "    control\n",
    "INNER JOIN \n",
    "    deadlines\n",
    "ON\n",
    "    control.labname != 'project1'\n",
    "    AND control.labname = deadlines.labs\n",
    "WHERE\n",
    "    julianday(control.first_commit_ts) > julianday(control.first_view_ts)\n",
    "\"\"\"\n",
    "control_results = pd.read_sql(query, sql_con)\n",
    "control_results"
   ]
  },
  {
   "cell_type": "markdown",
   "id": "b4af1482",
   "metadata": {},
   "source": [
    "## Close the connection "
   ]
  },
  {
   "cell_type": "code",
   "execution_count": 4,
   "id": "7fbfa153",
   "metadata": {},
   "outputs": [],
   "source": [
    "sql_con.close()"
   ]
  }
 ],
 "metadata": {
  "kernelspec": {
   "display_name": "Python 3 (ipykernel)",
   "language": "python",
   "name": "python3"
  },
  "language_info": {
   "codemirror_mode": {
    "name": "ipython",
    "version": 3
   },
   "file_extension": ".py",
   "mimetype": "text/x-python",
   "name": "python",
   "nbconvert_exporter": "python",
   "pygments_lexer": "ipython3",
   "version": "3.9.10"
  }
 },
 "nbformat": 4,
 "nbformat_minor": 5
}
