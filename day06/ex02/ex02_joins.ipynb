{
 "cells": [
  {
   "cell_type": "markdown",
   "id": "f666a18b",
   "metadata": {},
   "source": [
    "# Exercise 02 : Join"
   ]
  },
  {
   "cell_type": "markdown",
   "id": "4f5e458e",
   "metadata": {},
   "source": [
    "## Imports"
   ]
  },
  {
   "cell_type": "code",
   "execution_count": 9,
   "id": "f7be2b8f",
   "metadata": {},
   "outputs": [],
   "source": [
    "import pandas as pd\n",
    "import sqlite3"
   ]
  },
  {
   "cell_type": "markdown",
   "id": "30cd3eba",
   "metadata": {},
   "source": [
    "## Create a connection to the database using the library sqlite3"
   ]
  },
  {
   "cell_type": "code",
   "execution_count": 10,
   "id": "3707fb5b",
   "metadata": {},
   "outputs": [
    {
     "data": {
      "text/plain": [
       "<sqlite3.Connection at 0x120c44990>"
      ]
     },
     "execution_count": 10,
     "metadata": {},
     "output_type": "execute_result"
    }
   ],
   "source": [
    "sql_con = sqlite3.connect('../data/checking-logs.sqlite.sqlite copy')\n",
    "sql_con"
   ]
  },
  {
   "cell_type": "markdown",
   "id": "606f61c7",
   "metadata": {},
   "source": [
    "## Create a new table datamart in the database by joining the tables pageviews and checker using only one query\n",
    "- the table should have the following columns: uid, labname, first_commit_ts, first_view_ts\n",
    "- first_commit_ts is just a new name of the column timestamp from the checker table, it shows the first commit from a particular lab and from a particular user\n",
    "- first_view_ts is the first visit of a user to the table pageviews, timestamp when a user visited the newsfeed\n",
    "- status = ’ready’ should still be a filter\n",
    "- numTrials = 1 should still be a filter\n",
    "- labnames should still be from the list: ’laba04’, ’laba04s’, ’laba05’, ’laba06’, ’laba06s’, ’project1’\n",
    "- the table should contain only the users (uids with user_*) and not the admins\n",
    "- first_commit_ts and first_view_ts should be parsed as datetime64[ns]"
   ]
  },
  {
   "cell_type": "code",
   "execution_count": 11,
   "id": "871330ca",
   "metadata": {},
   "outputs": [
    {
     "data": {
      "text/plain": [
       "<sqlite3.Cursor at 0x120c68d50>"
      ]
     },
     "execution_count": 11,
     "metadata": {},
     "output_type": "execute_result"
    }
   ],
   "source": [
    "query=\"\"\"\n",
    "CREATE TABLE datamart AS\n",
    "    SELECT \n",
    "        checker_filtered.uid,\n",
    "        checker_filtered.labname,\n",
    "        checker_filtered.first_commit_ts,\n",
    "        pageviews_filtered.first_view_ts\n",
    "    FROM\n",
    "    (\n",
    "        SELECT \n",
    "            uid, labname, timestamp AS first_commit_ts\n",
    "        FROM \n",
    "            checker\n",
    "        WHERE\n",
    "            uid LIKE 'user_%'\n",
    "            AND status = 'ready'\n",
    "            AND numTrials = 1\n",
    "            AND labname in ('laba04', 'laba04s', 'laba05', 'laba06', 'laba06s', 'project1')\n",
    "    ) checker_filtered\n",
    "    LEFT OUTER JOIN\n",
    "    (\n",
    "        SELECT \n",
    "            uid, MIN(datetime) as first_view_ts\n",
    "        FROM \n",
    "            pageviews\n",
    "        GROUP BY\n",
    "            uid\n",
    "    ) pageviews_filtered\n",
    "    ON\n",
    "        checker_filtered.uid = pageviews_filtered.uid\n",
    "\"\"\"\n",
    "cur = sql_con.cursor()\n",
    "cur.execute('DROP TABLE IF EXISTS datamart;')\n",
    "cur.execute(query)"
   ]
  },
  {
   "cell_type": "code",
   "execution_count": 12,
   "id": "df27f88a",
   "metadata": {},
   "outputs": [
    {
     "data": {
      "text/html": [
       "<div>\n",
       "<style scoped>\n",
       "    .dataframe tbody tr th:only-of-type {\n",
       "        vertical-align: middle;\n",
       "    }\n",
       "\n",
       "    .dataframe tbody tr th {\n",
       "        vertical-align: top;\n",
       "    }\n",
       "\n",
       "    .dataframe thead th {\n",
       "        text-align: right;\n",
       "    }\n",
       "</style>\n",
       "<table border=\"1\" class=\"dataframe\">\n",
       "  <thead>\n",
       "    <tr style=\"text-align: right;\">\n",
       "      <th></th>\n",
       "      <th>uid</th>\n",
       "      <th>labname</th>\n",
       "      <th>first_commit_ts</th>\n",
       "      <th>first_view_ts</th>\n",
       "    </tr>\n",
       "  </thead>\n",
       "  <tbody>\n",
       "    <tr>\n",
       "      <th>0</th>\n",
       "      <td>user_4</td>\n",
       "      <td>project1</td>\n",
       "      <td>2020-04-17 05:19:02.744528</td>\n",
       "      <td>NaT</td>\n",
       "    </tr>\n",
       "    <tr>\n",
       "      <th>1</th>\n",
       "      <td>user_4</td>\n",
       "      <td>laba04</td>\n",
       "      <td>2020-04-17 11:33:17.366400</td>\n",
       "      <td>NaT</td>\n",
       "    </tr>\n",
       "    <tr>\n",
       "      <th>2</th>\n",
       "      <td>user_4</td>\n",
       "      <td>laba04s</td>\n",
       "      <td>2020-04-17 11:48:41.992466</td>\n",
       "      <td>NaT</td>\n",
       "    </tr>\n",
       "    <tr>\n",
       "      <th>3</th>\n",
       "      <td>user_17</td>\n",
       "      <td>project1</td>\n",
       "      <td>2020-04-18 07:56:45.408648</td>\n",
       "      <td>2020-04-18 10:56:55.833899</td>\n",
       "    </tr>\n",
       "    <tr>\n",
       "      <th>4</th>\n",
       "      <td>user_30</td>\n",
       "      <td>laba04</td>\n",
       "      <td>2020-04-18 13:36:53.971502</td>\n",
       "      <td>2020-04-17 22:46:26.785035</td>\n",
       "    </tr>\n",
       "    <tr>\n",
       "      <th>...</th>\n",
       "      <td>...</td>\n",
       "      <td>...</td>\n",
       "      <td>...</td>\n",
       "      <td>...</td>\n",
       "    </tr>\n",
       "    <tr>\n",
       "      <th>135</th>\n",
       "      <td>user_23</td>\n",
       "      <td>laba06</td>\n",
       "      <td>2020-05-21 08:34:10.517205</td>\n",
       "      <td>NaT</td>\n",
       "    </tr>\n",
       "    <tr>\n",
       "      <th>136</th>\n",
       "      <td>user_19</td>\n",
       "      <td>laba06s</td>\n",
       "      <td>2020-05-21 13:27:06.705881</td>\n",
       "      <td>2020-04-21 20:30:38.034966</td>\n",
       "    </tr>\n",
       "    <tr>\n",
       "      <th>137</th>\n",
       "      <td>user_23</td>\n",
       "      <td>laba06s</td>\n",
       "      <td>2020-05-21 14:29:15.709568</td>\n",
       "      <td>NaT</td>\n",
       "    </tr>\n",
       "    <tr>\n",
       "      <th>138</th>\n",
       "      <td>user_17</td>\n",
       "      <td>laba06</td>\n",
       "      <td>2020-05-21 15:21:31.567615</td>\n",
       "      <td>2020-04-18 10:56:55.833899</td>\n",
       "    </tr>\n",
       "    <tr>\n",
       "      <th>139</th>\n",
       "      <td>user_17</td>\n",
       "      <td>laba06s</td>\n",
       "      <td>2020-05-21 17:39:17.783615</td>\n",
       "      <td>2020-04-18 10:56:55.833899</td>\n",
       "    </tr>\n",
       "  </tbody>\n",
       "</table>\n",
       "<p>140 rows × 4 columns</p>\n",
       "</div>"
      ],
      "text/plain": [
       "         uid   labname            first_commit_ts              first_view_ts\n",
       "0     user_4  project1 2020-04-17 05:19:02.744528                        NaT\n",
       "1     user_4    laba04 2020-04-17 11:33:17.366400                        NaT\n",
       "2     user_4   laba04s 2020-04-17 11:48:41.992466                        NaT\n",
       "3    user_17  project1 2020-04-18 07:56:45.408648 2020-04-18 10:56:55.833899\n",
       "4    user_30    laba04 2020-04-18 13:36:53.971502 2020-04-17 22:46:26.785035\n",
       "..       ...       ...                        ...                        ...\n",
       "135  user_23    laba06 2020-05-21 08:34:10.517205                        NaT\n",
       "136  user_19   laba06s 2020-05-21 13:27:06.705881 2020-04-21 20:30:38.034966\n",
       "137  user_23   laba06s 2020-05-21 14:29:15.709568                        NaT\n",
       "138  user_17    laba06 2020-05-21 15:21:31.567615 2020-04-18 10:56:55.833899\n",
       "139  user_17   laba06s 2020-05-21 17:39:17.783615 2020-04-18 10:56:55.833899\n",
       "\n",
       "[140 rows x 4 columns]"
      ]
     },
     "execution_count": 12,
     "metadata": {},
     "output_type": "execute_result"
    }
   ],
   "source": [
    "datamart = pd.read_sql('SELECT * FROM datamart;', sql_con,\n",
    "                       parse_dates=['first_commit_ts', 'first_view_ts']\n",
    "                      )\n",
    "datamart"
   ]
  },
  {
   "cell_type": "code",
   "execution_count": 13,
   "id": "470be64d",
   "metadata": {},
   "outputs": [
    {
     "name": "stdout",
     "output_type": "stream",
     "text": [
      "<class 'pandas.core.frame.DataFrame'>\n",
      "RangeIndex: 140 entries, 0 to 139\n",
      "Data columns (total 4 columns):\n",
      " #   Column           Non-Null Count  Dtype         \n",
      "---  ------           --------------  -----         \n",
      " 0   uid              140 non-null    object        \n",
      " 1   labname          140 non-null    object        \n",
      " 2   first_commit_ts  140 non-null    datetime64[ns]\n",
      " 3   first_view_ts    59 non-null     datetime64[ns]\n",
      "dtypes: datetime64[ns](2), object(2)\n",
      "memory usage: 4.5+ KB\n"
     ]
    }
   ],
   "source": [
    "datamart.info()"
   ]
  },
  {
   "cell_type": "markdown",
   "id": "47def812",
   "metadata": {},
   "source": [
    "## Using Pandas methods, create two dataframes: test and control test should have the users that have the values in first_view_ts"
   ]
  },
  {
   "cell_type": "code",
   "execution_count": 18,
   "id": "890ef41f",
   "metadata": {},
   "outputs": [
    {
     "data": {
      "text/html": [
       "<div>\n",
       "<style scoped>\n",
       "    .dataframe tbody tr th:only-of-type {\n",
       "        vertical-align: middle;\n",
       "    }\n",
       "\n",
       "    .dataframe tbody tr th {\n",
       "        vertical-align: top;\n",
       "    }\n",
       "\n",
       "    .dataframe thead th {\n",
       "        text-align: right;\n",
       "    }\n",
       "</style>\n",
       "<table border=\"1\" class=\"dataframe\">\n",
       "  <thead>\n",
       "    <tr style=\"text-align: right;\">\n",
       "      <th></th>\n",
       "      <th>uid</th>\n",
       "      <th>labname</th>\n",
       "      <th>first_commit_ts</th>\n",
       "      <th>first_view_ts</th>\n",
       "    </tr>\n",
       "  </thead>\n",
       "  <tbody>\n",
       "    <tr>\n",
       "      <th>3</th>\n",
       "      <td>user_17</td>\n",
       "      <td>project1</td>\n",
       "      <td>2020-04-18 07:56:45.408648</td>\n",
       "      <td>2020-04-18 10:56:55.833899</td>\n",
       "    </tr>\n",
       "    <tr>\n",
       "      <th>4</th>\n",
       "      <td>user_30</td>\n",
       "      <td>laba04</td>\n",
       "      <td>2020-04-18 13:36:53.971502</td>\n",
       "      <td>2020-04-17 22:46:26.785035</td>\n",
       "    </tr>\n",
       "    <tr>\n",
       "      <th>7</th>\n",
       "      <td>user_30</td>\n",
       "      <td>laba04s</td>\n",
       "      <td>2020-04-18 14:51:37.498399</td>\n",
       "      <td>2020-04-17 22:46:26.785035</td>\n",
       "    </tr>\n",
       "    <tr>\n",
       "      <th>8</th>\n",
       "      <td>user_14</td>\n",
       "      <td>laba04</td>\n",
       "      <td>2020-04-18 15:14:00.312338</td>\n",
       "      <td>2020-04-18 10:53:52.623447</td>\n",
       "    </tr>\n",
       "    <tr>\n",
       "      <th>11</th>\n",
       "      <td>user_14</td>\n",
       "      <td>laba04s</td>\n",
       "      <td>2020-04-18 22:30:30.247628</td>\n",
       "      <td>2020-04-18 10:53:52.623447</td>\n",
       "    </tr>\n",
       "  </tbody>\n",
       "</table>\n",
       "</div>"
      ],
      "text/plain": [
       "        uid   labname            first_commit_ts              first_view_ts\n",
       "3   user_17  project1 2020-04-18 07:56:45.408648 2020-04-18 10:56:55.833899\n",
       "4   user_30    laba04 2020-04-18 13:36:53.971502 2020-04-17 22:46:26.785035\n",
       "7   user_30   laba04s 2020-04-18 14:51:37.498399 2020-04-17 22:46:26.785035\n",
       "8   user_14    laba04 2020-04-18 15:14:00.312338 2020-04-18 10:53:52.623447\n",
       "11  user_14   laba04s 2020-04-18 22:30:30.247628 2020-04-18 10:53:52.623447"
      ]
     },
     "execution_count": 18,
     "metadata": {},
     "output_type": "execute_result"
    }
   ],
   "source": [
    "test = datamart[datamart['first_view_ts'].notnull()]\n",
    "test.head()"
   ]
  },
  {
   "cell_type": "code",
   "execution_count": 19,
   "id": "a022ae80",
   "metadata": {},
   "outputs": [
    {
     "name": "stdout",
     "output_type": "stream",
     "text": [
      "<class 'pandas.core.frame.DataFrame'>\n",
      "Int64Index: 59 entries, 3 to 139\n",
      "Data columns (total 4 columns):\n",
      " #   Column           Non-Null Count  Dtype         \n",
      "---  ------           --------------  -----         \n",
      " 0   uid              59 non-null     object        \n",
      " 1   labname          59 non-null     object        \n",
      " 2   first_commit_ts  59 non-null     datetime64[ns]\n",
      " 3   first_view_ts    59 non-null     datetime64[ns]\n",
      "dtypes: datetime64[ns](2), object(2)\n",
      "memory usage: 2.3+ KB\n"
     ]
    }
   ],
   "source": [
    "test.info()"
   ]
  },
  {
   "cell_type": "markdown",
   "id": "d2776b1c",
   "metadata": {},
   "source": [
    "## Control should have the users that have missing values in first_view_ts"
   ]
  },
  {
   "cell_type": "code",
   "execution_count": 80,
   "id": "009d5ec3",
   "metadata": {},
   "outputs": [
    {
     "data": {
      "text/html": [
       "<div>\n",
       "<style scoped>\n",
       "    .dataframe tbody tr th:only-of-type {\n",
       "        vertical-align: middle;\n",
       "    }\n",
       "\n",
       "    .dataframe tbody tr th {\n",
       "        vertical-align: top;\n",
       "    }\n",
       "\n",
       "    .dataframe thead th {\n",
       "        text-align: right;\n",
       "    }\n",
       "</style>\n",
       "<table border=\"1\" class=\"dataframe\">\n",
       "  <thead>\n",
       "    <tr style=\"text-align: right;\">\n",
       "      <th></th>\n",
       "      <th>uid</th>\n",
       "      <th>labname</th>\n",
       "      <th>first_commit_ts</th>\n",
       "      <th>first_view_ts</th>\n",
       "    </tr>\n",
       "  </thead>\n",
       "  <tbody>\n",
       "    <tr>\n",
       "      <th>0</th>\n",
       "      <td>user_4</td>\n",
       "      <td>project1</td>\n",
       "      <td>2020-04-17 05:19:02.744528</td>\n",
       "      <td>NaT</td>\n",
       "    </tr>\n",
       "    <tr>\n",
       "      <th>1</th>\n",
       "      <td>user_4</td>\n",
       "      <td>laba04</td>\n",
       "      <td>2020-04-17 11:33:17.366400</td>\n",
       "      <td>NaT</td>\n",
       "    </tr>\n",
       "    <tr>\n",
       "      <th>2</th>\n",
       "      <td>user_4</td>\n",
       "      <td>laba04s</td>\n",
       "      <td>2020-04-17 11:48:41.992466</td>\n",
       "      <td>NaT</td>\n",
       "    </tr>\n",
       "    <tr>\n",
       "      <th>5</th>\n",
       "      <td>user_2</td>\n",
       "      <td>laba04</td>\n",
       "      <td>2020-04-18 13:42:35.482008</td>\n",
       "      <td>NaT</td>\n",
       "    </tr>\n",
       "    <tr>\n",
       "      <th>6</th>\n",
       "      <td>user_2</td>\n",
       "      <td>laba04s</td>\n",
       "      <td>2020-04-18 13:51:22.291271</td>\n",
       "      <td>NaT</td>\n",
       "    </tr>\n",
       "    <tr>\n",
       "      <th>...</th>\n",
       "      <td>...</td>\n",
       "      <td>...</td>\n",
       "      <td>...</td>\n",
       "      <td>...</td>\n",
       "    </tr>\n",
       "    <tr>\n",
       "      <th>126</th>\n",
       "      <td>user_2</td>\n",
       "      <td>laba06s</td>\n",
       "      <td>2020-05-19 14:45:03.908268</td>\n",
       "      <td>NaT</td>\n",
       "    </tr>\n",
       "    <tr>\n",
       "      <th>132</th>\n",
       "      <td>user_6</td>\n",
       "      <td>laba06s</td>\n",
       "      <td>2020-05-20 14:50:07.609937</td>\n",
       "      <td>NaT</td>\n",
       "    </tr>\n",
       "    <tr>\n",
       "      <th>134</th>\n",
       "      <td>user_7</td>\n",
       "      <td>laba06s</td>\n",
       "      <td>2020-05-20 23:05:37.742597</td>\n",
       "      <td>NaT</td>\n",
       "    </tr>\n",
       "    <tr>\n",
       "      <th>135</th>\n",
       "      <td>user_23</td>\n",
       "      <td>laba06</td>\n",
       "      <td>2020-05-21 08:34:10.517205</td>\n",
       "      <td>NaT</td>\n",
       "    </tr>\n",
       "    <tr>\n",
       "      <th>137</th>\n",
       "      <td>user_23</td>\n",
       "      <td>laba06s</td>\n",
       "      <td>2020-05-21 14:29:15.709568</td>\n",
       "      <td>NaT</td>\n",
       "    </tr>\n",
       "  </tbody>\n",
       "</table>\n",
       "<p>81 rows × 4 columns</p>\n",
       "</div>"
      ],
      "text/plain": [
       "         uid   labname            first_commit_ts first_view_ts\n",
       "0     user_4  project1 2020-04-17 05:19:02.744528           NaT\n",
       "1     user_4    laba04 2020-04-17 11:33:17.366400           NaT\n",
       "2     user_4   laba04s 2020-04-17 11:48:41.992466           NaT\n",
       "5     user_2    laba04 2020-04-18 13:42:35.482008           NaT\n",
       "6     user_2   laba04s 2020-04-18 13:51:22.291271           NaT\n",
       "..       ...       ...                        ...           ...\n",
       "126   user_2   laba06s 2020-05-19 14:45:03.908268           NaT\n",
       "132   user_6   laba06s 2020-05-20 14:50:07.609937           NaT\n",
       "134   user_7   laba06s 2020-05-20 23:05:37.742597           NaT\n",
       "135  user_23    laba06 2020-05-21 08:34:10.517205           NaT\n",
       "137  user_23   laba06s 2020-05-21 14:29:15.709568           NaT\n",
       "\n",
       "[81 rows x 4 columns]"
      ]
     },
     "execution_count": 80,
     "metadata": {},
     "output_type": "execute_result"
    }
   ],
   "source": [
    "control = datamart[datamart['first_view_ts'].isnull()]\n",
    "control"
   ]
  },
  {
   "cell_type": "code",
   "execution_count": 83,
   "id": "076f11bb",
   "metadata": {},
   "outputs": [
    {
     "name": "stdout",
     "output_type": "stream",
     "text": [
      "<class 'pandas.core.frame.DataFrame'>\n",
      "Int64Index: 81 entries, 0 to 137\n",
      "Data columns (total 4 columns):\n",
      " #   Column           Non-Null Count  Dtype         \n",
      "---  ------           --------------  -----         \n",
      " 0   uid              81 non-null     object        \n",
      " 1   labname          81 non-null     object        \n",
      " 2   first_commit_ts  81 non-null     datetime64[ns]\n",
      " 3   first_view_ts    0 non-null      datetime64[ns]\n",
      "dtypes: datetime64[ns](2), object(2)\n",
      "memory usage: 3.2+ KB\n"
     ]
    }
   ],
   "source": [
    "control.info()"
   ]
  },
  {
   "cell_type": "markdown",
   "id": "81750034",
   "metadata": {},
   "source": [
    "## Replace the missing values in the control with the average first_view_ts of the test users, we will use this value for the future analysis"
   ]
  },
  {
   "cell_type": "code",
   "execution_count": 84,
   "id": "791bd552",
   "metadata": {
    "scrolled": true
   },
   "outputs": [
    {
     "data": {
      "text/plain": [
       "uid                False\n",
       "labname            False\n",
       "first_commit_ts    False\n",
       "first_view_ts       True\n",
       "dtype: bool"
      ]
     },
     "execution_count": 84,
     "metadata": {},
     "output_type": "execute_result"
    }
   ],
   "source": [
    "control.isna().any()"
   ]
  },
  {
   "cell_type": "code",
   "execution_count": 85,
   "id": "e8aede6d",
   "metadata": {},
   "outputs": [],
   "source": [
    "control = control.fillna(test['first_view_ts'].mean())"
   ]
  },
  {
   "cell_type": "code",
   "execution_count": 86,
   "id": "6e2e1016",
   "metadata": {},
   "outputs": [
    {
     "data": {
      "text/html": [
       "<div>\n",
       "<style scoped>\n",
       "    .dataframe tbody tr th:only-of-type {\n",
       "        vertical-align: middle;\n",
       "    }\n",
       "\n",
       "    .dataframe tbody tr th {\n",
       "        vertical-align: top;\n",
       "    }\n",
       "\n",
       "    .dataframe thead th {\n",
       "        text-align: right;\n",
       "    }\n",
       "</style>\n",
       "<table border=\"1\" class=\"dataframe\">\n",
       "  <thead>\n",
       "    <tr style=\"text-align: right;\">\n",
       "      <th></th>\n",
       "      <th>uid</th>\n",
       "      <th>labname</th>\n",
       "      <th>first_commit_ts</th>\n",
       "      <th>first_view_ts</th>\n",
       "    </tr>\n",
       "  </thead>\n",
       "  <tbody>\n",
       "    <tr>\n",
       "      <th>0</th>\n",
       "      <td>user_4</td>\n",
       "      <td>project1</td>\n",
       "      <td>2020-04-17 05:19:02.744528</td>\n",
       "      <td>2020-04-27 00:40:05.761783552</td>\n",
       "    </tr>\n",
       "    <tr>\n",
       "      <th>1</th>\n",
       "      <td>user_4</td>\n",
       "      <td>laba04</td>\n",
       "      <td>2020-04-17 11:33:17.366400</td>\n",
       "      <td>2020-04-27 00:40:05.761783552</td>\n",
       "    </tr>\n",
       "    <tr>\n",
       "      <th>2</th>\n",
       "      <td>user_4</td>\n",
       "      <td>laba04s</td>\n",
       "      <td>2020-04-17 11:48:41.992466</td>\n",
       "      <td>2020-04-27 00:40:05.761783552</td>\n",
       "    </tr>\n",
       "    <tr>\n",
       "      <th>5</th>\n",
       "      <td>user_2</td>\n",
       "      <td>laba04</td>\n",
       "      <td>2020-04-18 13:42:35.482008</td>\n",
       "      <td>2020-04-27 00:40:05.761783552</td>\n",
       "    </tr>\n",
       "    <tr>\n",
       "      <th>6</th>\n",
       "      <td>user_2</td>\n",
       "      <td>laba04s</td>\n",
       "      <td>2020-04-18 13:51:22.291271</td>\n",
       "      <td>2020-04-27 00:40:05.761783552</td>\n",
       "    </tr>\n",
       "    <tr>\n",
       "      <th>...</th>\n",
       "      <td>...</td>\n",
       "      <td>...</td>\n",
       "      <td>...</td>\n",
       "      <td>...</td>\n",
       "    </tr>\n",
       "    <tr>\n",
       "      <th>126</th>\n",
       "      <td>user_2</td>\n",
       "      <td>laba06s</td>\n",
       "      <td>2020-05-19 14:45:03.908268</td>\n",
       "      <td>2020-04-27 00:40:05.761783552</td>\n",
       "    </tr>\n",
       "    <tr>\n",
       "      <th>132</th>\n",
       "      <td>user_6</td>\n",
       "      <td>laba06s</td>\n",
       "      <td>2020-05-20 14:50:07.609937</td>\n",
       "      <td>2020-04-27 00:40:05.761783552</td>\n",
       "    </tr>\n",
       "    <tr>\n",
       "      <th>134</th>\n",
       "      <td>user_7</td>\n",
       "      <td>laba06s</td>\n",
       "      <td>2020-05-20 23:05:37.742597</td>\n",
       "      <td>2020-04-27 00:40:05.761783552</td>\n",
       "    </tr>\n",
       "    <tr>\n",
       "      <th>135</th>\n",
       "      <td>user_23</td>\n",
       "      <td>laba06</td>\n",
       "      <td>2020-05-21 08:34:10.517205</td>\n",
       "      <td>2020-04-27 00:40:05.761783552</td>\n",
       "    </tr>\n",
       "    <tr>\n",
       "      <th>137</th>\n",
       "      <td>user_23</td>\n",
       "      <td>laba06s</td>\n",
       "      <td>2020-05-21 14:29:15.709568</td>\n",
       "      <td>2020-04-27 00:40:05.761783552</td>\n",
       "    </tr>\n",
       "  </tbody>\n",
       "</table>\n",
       "<p>81 rows × 4 columns</p>\n",
       "</div>"
      ],
      "text/plain": [
       "         uid   labname            first_commit_ts  \\\n",
       "0     user_4  project1 2020-04-17 05:19:02.744528   \n",
       "1     user_4    laba04 2020-04-17 11:33:17.366400   \n",
       "2     user_4   laba04s 2020-04-17 11:48:41.992466   \n",
       "5     user_2    laba04 2020-04-18 13:42:35.482008   \n",
       "6     user_2   laba04s 2020-04-18 13:51:22.291271   \n",
       "..       ...       ...                        ...   \n",
       "126   user_2   laba06s 2020-05-19 14:45:03.908268   \n",
       "132   user_6   laba06s 2020-05-20 14:50:07.609937   \n",
       "134   user_7   laba06s 2020-05-20 23:05:37.742597   \n",
       "135  user_23    laba06 2020-05-21 08:34:10.517205   \n",
       "137  user_23   laba06s 2020-05-21 14:29:15.709568   \n",
       "\n",
       "                    first_view_ts  \n",
       "0   2020-04-27 00:40:05.761783552  \n",
       "1   2020-04-27 00:40:05.761783552  \n",
       "2   2020-04-27 00:40:05.761783552  \n",
       "5   2020-04-27 00:40:05.761783552  \n",
       "6   2020-04-27 00:40:05.761783552  \n",
       "..                            ...  \n",
       "126 2020-04-27 00:40:05.761783552  \n",
       "132 2020-04-27 00:40:05.761783552  \n",
       "134 2020-04-27 00:40:05.761783552  \n",
       "135 2020-04-27 00:40:05.761783552  \n",
       "137 2020-04-27 00:40:05.761783552  \n",
       "\n",
       "[81 rows x 4 columns]"
      ]
     },
     "execution_count": 86,
     "metadata": {},
     "output_type": "execute_result"
    }
   ],
   "source": [
    "control"
   ]
  },
  {
   "cell_type": "markdown",
   "id": "b9947d41",
   "metadata": {},
   "source": [
    "## Save both tables into the database, you will use them in the next exercises"
   ]
  },
  {
   "cell_type": "code",
   "execution_count": 88,
   "id": "8946fab6",
   "metadata": {},
   "outputs": [
    {
     "data": {
      "text/plain": [
       "81"
      ]
     },
     "execution_count": 88,
     "metadata": {},
     "output_type": "execute_result"
    }
   ],
   "source": [
    "test.to_sql('test', sql_con, if_exists='replace')\n",
    "control.to_sql('control', sql_con, if_exists='replace')"
   ]
  },
  {
   "cell_type": "code",
   "execution_count": 89,
   "id": "d9e5d0cc",
   "metadata": {},
   "outputs": [],
   "source": [
    "sql_con.close()"
   ]
  }
 ],
 "metadata": {
  "kernelspec": {
   "display_name": "Python 3 (ipykernel)",
   "language": "python",
   "name": "python3"
  },
  "language_info": {
   "codemirror_mode": {
    "name": "ipython",
    "version": 3
   },
   "file_extension": ".py",
   "mimetype": "text/x-python",
   "name": "python",
   "nbconvert_exporter": "python",
   "pygments_lexer": "ipython3",
   "version": "3.9.10"
  }
 },
 "nbformat": 4,
 "nbformat_minor": 5
}
