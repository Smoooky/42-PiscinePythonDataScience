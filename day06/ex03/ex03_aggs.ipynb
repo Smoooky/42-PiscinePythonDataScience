{
 "cells": [
  {
   "cell_type": "markdown",
   "id": "d5c53b92",
   "metadata": {},
   "source": [
    "# Exercise 03 : Aggregations"
   ]
  },
  {
   "cell_type": "markdown",
   "id": "a8d98762",
   "metadata": {},
   "source": [
    "## Imports"
   ]
  },
  {
   "cell_type": "code",
   "execution_count": 5,
   "id": "7bd7b939",
   "metadata": {},
   "outputs": [],
   "source": [
    "import pandas as pd\n",
    "import sqlite3"
   ]
  },
  {
   "cell_type": "markdown",
   "id": "319dae87",
   "metadata": {},
   "source": [
    "## Create a connection to the database using the library sqlite3"
   ]
  },
  {
   "cell_type": "code",
   "execution_count": 6,
   "id": "19d35cc6",
   "metadata": {},
   "outputs": [],
   "source": [
    "sql_con = sqlite3.connect('../data/checking-logs.sqlite.sqlite copy')"
   ]
  },
  {
   "cell_type": "markdown",
   "id": "e841abff",
   "metadata": {},
   "source": [
    "## Get the schema of the table test"
   ]
  },
  {
   "cell_type": "code",
   "execution_count": 8,
   "id": "de166c35",
   "metadata": {},
   "outputs": [
    {
     "data": {
      "text/html": [
       "<div>\n",
       "<style scoped>\n",
       "    .dataframe tbody tr th:only-of-type {\n",
       "        vertical-align: middle;\n",
       "    }\n",
       "\n",
       "    .dataframe tbody tr th {\n",
       "        vertical-align: top;\n",
       "    }\n",
       "\n",
       "    .dataframe thead th {\n",
       "        text-align: right;\n",
       "    }\n",
       "</style>\n",
       "<table border=\"1\" class=\"dataframe\">\n",
       "  <thead>\n",
       "    <tr style=\"text-align: right;\">\n",
       "      <th></th>\n",
       "      <th>cid</th>\n",
       "      <th>name</th>\n",
       "      <th>type</th>\n",
       "      <th>notnull</th>\n",
       "      <th>dflt_value</th>\n",
       "      <th>pk</th>\n",
       "    </tr>\n",
       "  </thead>\n",
       "  <tbody>\n",
       "  </tbody>\n",
       "</table>\n",
       "</div>"
      ],
      "text/plain": [
       "Empty DataFrame\n",
       "Columns: [cid, name, type, notnull, dflt_value, pk]\n",
       "Index: []"
      ]
     },
     "execution_count": 8,
     "metadata": {},
     "output_type": "execute_result"
    }
   ],
   "source": [
    "pd.io.sql.read_sql('PRAGMA table_info(test);', sql_con)"
   ]
  },
  {
   "cell_type": "markdown",
   "id": "c51ff299",
   "metadata": {},
   "source": [
    "## Get only the first 10 rows of the table test to check what the table looks like"
   ]
  },
  {
   "cell_type": "markdown",
   "id": "192f61a9",
   "metadata": {},
   "source": [
    "## Find among all the users the minimum value of the delta between the first commit of the user and the deadline of the corresponding lab using only one query\n",
    "- do this by joining the table with the table deadlines\n",
    "- the difference should be displayed in hours\n",
    "- do not take the lab ’project1’ into account, it has longer deadlines and will be an outlier\n",
    "- the value should be stored in the dataframe df_min with the corresponding uid"
   ]
  },
  {
   "cell_type": "markdown",
   "id": "a2400f60",
   "metadata": {},
   "source": [
    "## Do the same thing, but for the maximum, using only one query, the dataframe name is df_max"
   ]
  },
  {
   "cell_type": "markdown",
   "id": "7733904d",
   "metadata": {},
   "source": [
    "## Do the same thing but for the average, using only one query, this time your dataframe should not include the uid column, and the dataframe name is df_avg"
   ]
  },
  {
   "cell_type": "markdown",
   "id": "27d952dd",
   "metadata": {},
   "source": [
    "## We want to test the hypothesis that the users who visited the newsfeed just a few times have the lower delta between the first commit and the deadline. To do this, you need to calculate the correlation coefficient between the number of pageviews and the difference\n",
    "- using only one query, create a table with the columns: uid, avg_diff, pageviews\n",
    "- uid is the uids that exist in the test\n",
    "- avg_diff is the average delta between the first commit and the lab deadline per user\n",
    "- pageviews is the number of Newsfeed visits per user\n",
    "- do not take the lab ’project1’ into account\n",
    "- store it to the dataframe views_diff"
   ]
  },
  {
   "cell_type": "code",
   "execution_count": null,
   "id": "c71b53d7",
   "metadata": {},
   "outputs": [],
   "source": []
  },
  {
   "cell_type": "markdown",
   "id": "3ada3658",
   "metadata": {},
   "source": [
    "- use the Pandas method corr() to calculate the correlation coefficient between the number of pageviews and the difference"
   ]
  },
  {
   "cell_type": "code",
   "execution_count": null,
   "id": "4317890f",
   "metadata": {},
   "outputs": [],
   "source": []
  },
  {
   "cell_type": "markdown",
   "id": "248ebd57",
   "metadata": {},
   "source": [
    "## Close the connection"
   ]
  },
  {
   "cell_type": "code",
   "execution_count": 4,
   "id": "c79eaa2d",
   "metadata": {},
   "outputs": [],
   "source": [
    "sql_con.close()"
   ]
  }
 ],
 "metadata": {
  "kernelspec": {
   "display_name": "Python 3 (ipykernel)",
   "language": "python",
   "name": "python3"
  },
  "language_info": {
   "codemirror_mode": {
    "name": "ipython",
    "version": 3
   },
   "file_extension": ".py",
   "mimetype": "text/x-python",
   "name": "python",
   "nbconvert_exporter": "python",
   "pygments_lexer": "ipython3",
   "version": "3.8.10"
  }
 },
 "nbformat": 4,
 "nbformat_minor": 5
}
