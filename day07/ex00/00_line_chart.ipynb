{
 "cells": [
  {
   "cell_type": "markdown",
   "id": "91a60d24",
   "metadata": {},
   "source": [
    "# Exercise 00 : Line chart"
   ]
  },
  {
   "cell_type": "markdown",
   "id": "030b84b9",
   "metadata": {},
   "source": [
    "## Imports"
   ]
  },
  {
   "cell_type": "code",
   "execution_count": 1,
   "id": "efb79c63",
   "metadata": {},
   "outputs": [],
   "source": [
    "import pandas as pd\n",
    "import sqlite3"
   ]
  },
  {
   "cell_type": "markdown",
   "id": "c1020fba",
   "metadata": {},
   "source": [
    "## Make a connection to the database"
   ]
  },
  {
   "cell_type": "code",
   "execution_count": 2,
   "id": "2359defa",
   "metadata": {},
   "outputs": [],
   "source": [
    "sql_con = sqlite3.connect('../data/checking-logs.sqlite.sqlite')"
   ]
  },
  {
   "cell_type": "markdown",
   "id": "853dce85",
   "metadata": {},
   "source": [
    "## Run a query that gets the datetime from the pageviews table, selecting only the users and not the admins"
   ]
  },
  {
   "cell_type": "code",
   "execution_count": null,
   "id": "c03b3328",
   "metadata": {},
   "outputs": [],
   "source": []
  },
  {
   "cell_type": "code",
   "execution_count": 10,
   "id": "5090f658",
   "metadata": {},
   "outputs": [],
   "source": [
    "query = \"\"\"\n",
    "SELECT \n",
    "    datetime\n",
    "FROM\n",
    "    pageviews\n",
    "WHERE\n",
    "    uid LIKE 'user_%'\n",
    "\"\"\"\n",
    "df = pd.read_sql(query, sql_con, parse_dates='')"
   ]
  },
  {
   "cell_type": "code",
   "execution_count": 11,
   "id": "16f996c9",
   "metadata": {},
   "outputs": [
    {
     "data": {
      "text/html": [
       "<div>\n",
       "<style scoped>\n",
       "    .dataframe tbody tr th:only-of-type {\n",
       "        vertical-align: middle;\n",
       "    }\n",
       "\n",
       "    .dataframe tbody tr th {\n",
       "        vertical-align: top;\n",
       "    }\n",
       "\n",
       "    .dataframe thead th {\n",
       "        text-align: right;\n",
       "    }\n",
       "</style>\n",
       "<table border=\"1\" class=\"dataframe\">\n",
       "  <thead>\n",
       "    <tr style=\"text-align: right;\">\n",
       "      <th></th>\n",
       "      <th>datetime</th>\n",
       "    </tr>\n",
       "  </thead>\n",
       "  <tbody>\n",
       "    <tr>\n",
       "      <th>0</th>\n",
       "      <td>2020-04-17 22:46:26.785035</td>\n",
       "    </tr>\n",
       "    <tr>\n",
       "      <th>1</th>\n",
       "      <td>2020-04-18 10:53:52.623447</td>\n",
       "    </tr>\n",
       "    <tr>\n",
       "      <th>2</th>\n",
       "      <td>2020-04-18 10:56:55.833899</td>\n",
       "    </tr>\n",
       "    <tr>\n",
       "      <th>3</th>\n",
       "      <td>2020-04-18 10:57:37.331258</td>\n",
       "    </tr>\n",
       "    <tr>\n",
       "      <th>4</th>\n",
       "      <td>2020-04-18 12:05:48.200144</td>\n",
       "    </tr>\n",
       "    <tr>\n",
       "      <th>...</th>\n",
       "      <td>...</td>\n",
       "    </tr>\n",
       "    <tr>\n",
       "      <th>982</th>\n",
       "      <td>2020-05-21 18:45:20.441142</td>\n",
       "    </tr>\n",
       "    <tr>\n",
       "      <th>983</th>\n",
       "      <td>2020-05-21 23:03:06.457819</td>\n",
       "    </tr>\n",
       "    <tr>\n",
       "      <th>984</th>\n",
       "      <td>2020-05-21 23:23:49.995349</td>\n",
       "    </tr>\n",
       "    <tr>\n",
       "      <th>985</th>\n",
       "      <td>2020-05-22 11:30:18.368990</td>\n",
       "    </tr>\n",
       "    <tr>\n",
       "      <th>986</th>\n",
       "      <td>2020-05-22 18:22:22.847815</td>\n",
       "    </tr>\n",
       "  </tbody>\n",
       "</table>\n",
       "<p>987 rows × 1 columns</p>\n",
       "</div>"
      ],
      "text/plain": [
       "                       datetime\n",
       "0    2020-04-17 22:46:26.785035\n",
       "1    2020-04-18 10:53:52.623447\n",
       "2    2020-04-18 10:56:55.833899\n",
       "3    2020-04-18 10:57:37.331258\n",
       "4    2020-04-18 12:05:48.200144\n",
       "..                          ...\n",
       "982  2020-05-21 18:45:20.441142\n",
       "983  2020-05-21 23:03:06.457819\n",
       "984  2020-05-21 23:23:49.995349\n",
       "985  2020-05-22 11:30:18.368990\n",
       "986  2020-05-22 18:22:22.847815\n",
       "\n",
       "[987 rows x 1 columns]"
      ]
     },
     "execution_count": 11,
     "metadata": {},
     "output_type": "execute_result"
    }
   ],
   "source": [
    "df"
   ]
  },
  {
   "cell_type": "code",
   "execution_count": null,
   "id": "61a82e5c",
   "metadata": {},
   "outputs": [],
   "source": []
  }
 ],
 "metadata": {
  "kernelspec": {
   "display_name": "Python 3 (ipykernel)",
   "language": "python",
   "name": "python3"
  },
  "language_info": {
   "codemirror_mode": {
    "name": "ipython",
    "version": 3
   },
   "file_extension": ".py",
   "mimetype": "text/x-python",
   "name": "python",
   "nbconvert_exporter": "python",
   "pygments_lexer": "ipython3",
   "version": "3.9.10"
  }
 },
 "nbformat": 4,
 "nbformat_minor": 5
}
