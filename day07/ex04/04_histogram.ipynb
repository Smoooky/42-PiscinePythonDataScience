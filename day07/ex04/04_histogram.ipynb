{
 "cells": [
  {
   "cell_type": "markdown",
   "id": "7f3cd309",
   "metadata": {},
   "source": [
    "# Exercise 04 : Histogram"
   ]
  },
  {
   "cell_type": "markdown",
   "id": "c39e1109",
   "metadata": {},
   "source": [
    "## Imports"
   ]
  },
  {
   "cell_type": "code",
   "execution_count": 2,
   "id": "b45d6ec7",
   "metadata": {},
   "outputs": [],
   "source": [
    "import pandas as pd\n",
    "import sqlite3\n",
    "import matplotlib.pyplot as plt"
   ]
  },
  {
   "cell_type": "markdown",
   "id": "36f5a598",
   "metadata": {},
   "source": [
    "## Create a graph like this\n",
    "- create two lists of values (for working days and for weekends) for the histogram input\n",
    "- the figsize is still the same, you can choose the fontsize as well as the color palette\n",
    "- use a level of transparency for the histogram in front equal to 0.7"
   ]
  },
  {
   "cell_type": "markdown",
   "id": "545bb0a8",
   "metadata": {},
   "source": [
    "## Make a connection to the database"
   ]
  },
  {
   "cell_type": "code",
   "execution_count": 3,
   "id": "216a5632",
   "metadata": {},
   "outputs": [],
   "source": [
    "sql_con = sqlite3.connect('../data/checking-logs.sqlite.sqlite')"
   ]
  },
  {
   "cell_type": "markdown",
   "id": "660131e7",
   "metadata": {},
   "source": [
    "## Get commits datetimes"
   ]
  },
  {
   "cell_type": "code",
   "execution_count": 4,
   "id": "a9288c73",
   "metadata": {},
   "outputs": [
    {
     "data": {
      "text/plain": "                       datetime\n0    2020-04-17 05:19:02.744528\n1    2020-04-17 05:22:35.249331\n2    2020-04-17 05:22:45.549397\n3    2020-04-17 05:34:14.691200\n4    2020-04-17 05:34:24.422370\n...                         ...\n3202 2020-05-21 20:19:06.872761\n3203 2020-05-21 20:22:41.785725\n3204 2020-05-21 20:22:41.877806\n3205 2020-05-21 20:37:00.129678\n3206 2020-05-21 20:37:00.290491\n\n[3207 rows x 1 columns]",
      "text/html": "<div>\n<style scoped>\n    .dataframe tbody tr th:only-of-type {\n        vertical-align: middle;\n    }\n\n    .dataframe tbody tr th {\n        vertical-align: top;\n    }\n\n    .dataframe thead th {\n        text-align: right;\n    }\n</style>\n<table border=\"1\" class=\"dataframe\">\n  <thead>\n    <tr style=\"text-align: right;\">\n      <th></th>\n      <th>datetime</th>\n    </tr>\n  </thead>\n  <tbody>\n    <tr>\n      <th>0</th>\n      <td>2020-04-17 05:19:02.744528</td>\n    </tr>\n    <tr>\n      <th>1</th>\n      <td>2020-04-17 05:22:35.249331</td>\n    </tr>\n    <tr>\n      <th>2</th>\n      <td>2020-04-17 05:22:45.549397</td>\n    </tr>\n    <tr>\n      <th>3</th>\n      <td>2020-04-17 05:34:14.691200</td>\n    </tr>\n    <tr>\n      <th>4</th>\n      <td>2020-04-17 05:34:24.422370</td>\n    </tr>\n    <tr>\n      <th>...</th>\n      <td>...</td>\n    </tr>\n    <tr>\n      <th>3202</th>\n      <td>2020-05-21 20:19:06.872761</td>\n    </tr>\n    <tr>\n      <th>3203</th>\n      <td>2020-05-21 20:22:41.785725</td>\n    </tr>\n    <tr>\n      <th>3204</th>\n      <td>2020-05-21 20:22:41.877806</td>\n    </tr>\n    <tr>\n      <th>3205</th>\n      <td>2020-05-21 20:37:00.129678</td>\n    </tr>\n    <tr>\n      <th>3206</th>\n      <td>2020-05-21 20:37:00.290491</td>\n    </tr>\n  </tbody>\n</table>\n<p>3207 rows × 1 columns</p>\n</div>"
     },
     "execution_count": 4,
     "metadata": {},
     "output_type": "execute_result"
    }
   ],
   "source": [
    "query = \"\"\"\n",
    "SELECT\n",
    "    timestamp as datetime\n",
    "FROM \n",
    "    checker\n",
    "WHERE\n",
    "    uid LIKE 'user_%'\n",
    "\"\"\"\n",
    "\n",
    "commits = pd.read_sql(query, sql_con, parse_dates=['datetime'])\n",
    "commits"
   ]
  },
  {
   "cell_type": "markdown",
   "id": "3a3c004e",
   "metadata": {},
   "source": [
    "## Calculating daytype"
   ]
  },
  {
   "cell_type": "code",
   "execution_count": 5,
   "id": "e4b28ad6",
   "metadata": {},
   "outputs": [
    {
     "data": {
      "text/plain": "                       datetime      daytype\n0    2020-04-17 05:19:02.744528  working_day\n1    2020-04-17 05:22:35.249331  working_day\n2    2020-04-17 05:22:45.549397  working_day\n3    2020-04-17 05:34:14.691200  working_day\n4    2020-04-17 05:34:24.422370  working_day\n...                         ...          ...\n3202 2020-05-21 20:19:06.872761  working_day\n3203 2020-05-21 20:22:41.785725  working_day\n3204 2020-05-21 20:22:41.877806  working_day\n3205 2020-05-21 20:37:00.129678  working_day\n3206 2020-05-21 20:37:00.290491  working_day\n\n[3207 rows x 2 columns]",
      "text/html": "<div>\n<style scoped>\n    .dataframe tbody tr th:only-of-type {\n        vertical-align: middle;\n    }\n\n    .dataframe tbody tr th {\n        vertical-align: top;\n    }\n\n    .dataframe thead th {\n        text-align: right;\n    }\n</style>\n<table border=\"1\" class=\"dataframe\">\n  <thead>\n    <tr style=\"text-align: right;\">\n      <th></th>\n      <th>datetime</th>\n      <th>daytype</th>\n    </tr>\n  </thead>\n  <tbody>\n    <tr>\n      <th>0</th>\n      <td>2020-04-17 05:19:02.744528</td>\n      <td>working_day</td>\n    </tr>\n    <tr>\n      <th>1</th>\n      <td>2020-04-17 05:22:35.249331</td>\n      <td>working_day</td>\n    </tr>\n    <tr>\n      <th>2</th>\n      <td>2020-04-17 05:22:45.549397</td>\n      <td>working_day</td>\n    </tr>\n    <tr>\n      <th>3</th>\n      <td>2020-04-17 05:34:14.691200</td>\n      <td>working_day</td>\n    </tr>\n    <tr>\n      <th>4</th>\n      <td>2020-04-17 05:34:24.422370</td>\n      <td>working_day</td>\n    </tr>\n    <tr>\n      <th>...</th>\n      <td>...</td>\n      <td>...</td>\n    </tr>\n    <tr>\n      <th>3202</th>\n      <td>2020-05-21 20:19:06.872761</td>\n      <td>working_day</td>\n    </tr>\n    <tr>\n      <th>3203</th>\n      <td>2020-05-21 20:22:41.785725</td>\n      <td>working_day</td>\n    </tr>\n    <tr>\n      <th>3204</th>\n      <td>2020-05-21 20:22:41.877806</td>\n      <td>working_day</td>\n    </tr>\n    <tr>\n      <th>3205</th>\n      <td>2020-05-21 20:37:00.129678</td>\n      <td>working_day</td>\n    </tr>\n    <tr>\n      <th>3206</th>\n      <td>2020-05-21 20:37:00.290491</td>\n      <td>working_day</td>\n    </tr>\n  </tbody>\n</table>\n<p>3207 rows × 2 columns</p>\n</div>"
     },
     "execution_count": 5,
     "metadata": {},
     "output_type": "execute_result"
    }
   ],
   "source": [
    "commits['daytype'] = commits['datetime'].dt.dayofweek.apply(lambda x: 'weekend' if x > 4 else 'working_day')\n",
    "commits"
   ]
  },
  {
   "cell_type": "markdown",
   "id": "3a5e5568",
   "metadata": {},
   "source": [
    "## Calculating average counts per hour"
   ]
  },
  {
   "cell_type": "code",
   "execution_count": 6,
   "id": "351a8376",
   "metadata": {},
   "outputs": [
    {
     "data": {
      "text/plain": "                       datetime      daytype  hour\n0    2020-04-17 05:19:02.744528  working_day     5\n1    2020-04-17 05:22:35.249331  working_day     5\n2    2020-04-17 05:22:45.549397  working_day     5\n3    2020-04-17 05:34:14.691200  working_day     5\n4    2020-04-17 05:34:24.422370  working_day     5\n...                         ...          ...   ...\n3202 2020-05-21 20:19:06.872761  working_day    20\n3203 2020-05-21 20:22:41.785725  working_day    20\n3204 2020-05-21 20:22:41.877806  working_day    20\n3205 2020-05-21 20:37:00.129678  working_day    20\n3206 2020-05-21 20:37:00.290491  working_day    20\n\n[3207 rows x 3 columns]",
      "text/html": "<div>\n<style scoped>\n    .dataframe tbody tr th:only-of-type {\n        vertical-align: middle;\n    }\n\n    .dataframe tbody tr th {\n        vertical-align: top;\n    }\n\n    .dataframe thead th {\n        text-align: right;\n    }\n</style>\n<table border=\"1\" class=\"dataframe\">\n  <thead>\n    <tr style=\"text-align: right;\">\n      <th></th>\n      <th>datetime</th>\n      <th>daytype</th>\n      <th>hour</th>\n    </tr>\n  </thead>\n  <tbody>\n    <tr>\n      <th>0</th>\n      <td>2020-04-17 05:19:02.744528</td>\n      <td>working_day</td>\n      <td>5</td>\n    </tr>\n    <tr>\n      <th>1</th>\n      <td>2020-04-17 05:22:35.249331</td>\n      <td>working_day</td>\n      <td>5</td>\n    </tr>\n    <tr>\n      <th>2</th>\n      <td>2020-04-17 05:22:45.549397</td>\n      <td>working_day</td>\n      <td>5</td>\n    </tr>\n    <tr>\n      <th>3</th>\n      <td>2020-04-17 05:34:14.691200</td>\n      <td>working_day</td>\n      <td>5</td>\n    </tr>\n    <tr>\n      <th>4</th>\n      <td>2020-04-17 05:34:24.422370</td>\n      <td>working_day</td>\n      <td>5</td>\n    </tr>\n    <tr>\n      <th>...</th>\n      <td>...</td>\n      <td>...</td>\n      <td>...</td>\n    </tr>\n    <tr>\n      <th>3202</th>\n      <td>2020-05-21 20:19:06.872761</td>\n      <td>working_day</td>\n      <td>20</td>\n    </tr>\n    <tr>\n      <th>3203</th>\n      <td>2020-05-21 20:22:41.785725</td>\n      <td>working_day</td>\n      <td>20</td>\n    </tr>\n    <tr>\n      <th>3204</th>\n      <td>2020-05-21 20:22:41.877806</td>\n      <td>working_day</td>\n      <td>20</td>\n    </tr>\n    <tr>\n      <th>3205</th>\n      <td>2020-05-21 20:37:00.129678</td>\n      <td>working_day</td>\n      <td>20</td>\n    </tr>\n    <tr>\n      <th>3206</th>\n      <td>2020-05-21 20:37:00.290491</td>\n      <td>working_day</td>\n      <td>20</td>\n    </tr>\n  </tbody>\n</table>\n<p>3207 rows × 3 columns</p>\n</div>"
     },
     "execution_count": 6,
     "metadata": {},
     "output_type": "execute_result"
    }
   ],
   "source": [
    "commits['hour'] = commits['datetime'].dt.hour\n",
    "commits"
   ]
  },
  {
   "cell_type": "markdown",
   "id": "ef4e3d35",
   "metadata": {},
   "source": [
    "## Creating graph"
   ]
  },
  {
   "cell_type": "code",
   "execution_count": 7,
   "id": "7f74ea2b",
   "metadata": {},
   "outputs": [],
   "source": [
    "data = [commits[commits['daytype'] == 'working_day']['hour'].tolist(),\n",
    "        commits[commits['daytype'] == 'weekend']['hour'].tolist()]"
   ]
  },
  {
   "cell_type": "code",
   "execution_count": 8,
   "id": "3b3d821c",
   "metadata": {},
   "outputs": [
    {
     "data": {
      "text/plain": "[]"
     },
     "execution_count": 8,
     "metadata": {},
     "output_type": "execute_result"
    },
    {
     "data": {
      "text/plain": "<Figure size 1500x800 with 1 Axes>",
      "image/png": "[encoded data removed]"
     },
     "metadata": {},
     "output_type": "display_data"
    }
   ],
   "source": [
    "plt.figure(figsize=(15,8))\n",
    "\n",
    "plt.hist(x=data[0],\n",
    "         bins=range(0, 25),\n",
    "         range=[0, 24]\n",
    "        )\n",
    "\n",
    "plt.hist(x=data[1],\n",
    "         bins=range(0, 25),\n",
    "         range=[0, 24],\n",
    "         alpha=0.7\n",
    "        )\n",
    "\n",
    "plt.legend(['working_day', 'weekend'])\n",
    "plt.xlim(0,24)\n",
    "plt.plot()"
   ]
  },
  {
   "cell_type": "markdown",
   "id": "c0512e9c",
   "metadata": {},
   "source": [
    "## Close the connection to the database"
   ]
  },
  {
   "cell_type": "code",
   "execution_count": 9,
   "id": "1a790459",
   "metadata": {},
   "outputs": [],
   "source": [
    "sql_con.close()"
   ]
  },
  {
   "cell_type": "markdown",
   "id": "81cf9a6f",
   "metadata": {},
   "source": [
    "## Are there hours when the total number of commits was higher on weekends than on working days?\n",
    "The answer is: yes.\n",
    "For example: 11, 13, 22, 23"
   ]
  }
 ],
 "metadata": {
  "kernelspec": {
   "display_name": "Python 3 (ipykernel)",
   "language": "python",
   "name": "python3"
  },
  "language_info": {
   "codemirror_mode": {
    "name": "ipython",
    "version": 3
   },
   "file_extension": ".py",
   "mimetype": "text/x-python",
   "name": "python",
   "nbconvert_exporter": "python",
   "pygments_lexer": "ipython3",
   "version": "3.8.10"
  }
 },
 "nbformat": 4,
 "nbformat_minor": 5
}
