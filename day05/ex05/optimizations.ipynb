{
 "cells": [
  {
   "cell_type": "markdown",
   "id": "9a38cd2a",
   "metadata": {},
   "source": [
    "# Exercise 05 : Pandas optimizations"
   ]
  },
  {
   "cell_type": "markdown",
   "id": "e7a3c3f5",
   "metadata": {},
   "source": [
    "## Imports"
   ]
  },
  {
   "cell_type": "code",
   "execution_count": 1,
   "id": "c16e4a95",
   "metadata": {},
   "outputs": [],
   "source": [
    "import pandas as pd\n",
    "import gc"
   ]
  },
  {
   "cell_type": "markdown",
   "id": "05ddbd0d",
   "metadata": {},
   "source": [
    "## Read the fines.csv that you saved in the previous exercise"
   ]
  },
  {
   "cell_type": "code",
   "execution_count": 3,
   "id": "3544515c",
   "metadata": {},
   "outputs": [
    {
     "data": {
      "text/html": [
       "<div>\n",
       "<style scoped>\n",
       "    .dataframe tbody tr th:only-of-type {\n",
       "        vertical-align: middle;\n",
       "    }\n",
       "\n",
       "    .dataframe tbody tr th {\n",
       "        vertical-align: top;\n",
       "    }\n",
       "\n",
       "    .dataframe thead th {\n",
       "        text-align: right;\n",
       "    }\n",
       "</style>\n",
       "<table border=\"1\" class=\"dataframe\">\n",
       "  <thead>\n",
       "    <tr style=\"text-align: right;\">\n",
       "      <th></th>\n",
       "      <th>CarNumber</th>\n",
       "      <th>Refund</th>\n",
       "      <th>Fines</th>\n",
       "      <th>Make</th>\n",
       "      <th>Model</th>\n",
       "      <th>Year</th>\n",
       "    </tr>\n",
       "  </thead>\n",
       "  <tbody>\n",
       "    <tr>\n",
       "      <th>0</th>\n",
       "      <td>Y163O8161RUS</td>\n",
       "      <td>2</td>\n",
       "      <td>3200.0</td>\n",
       "      <td>Ford</td>\n",
       "      <td>Focus</td>\n",
       "      <td>1989</td>\n",
       "    </tr>\n",
       "    <tr>\n",
       "      <th>1</th>\n",
       "      <td>E432XX77RUS</td>\n",
       "      <td>1</td>\n",
       "      <td>6500.0</td>\n",
       "      <td>Toyota</td>\n",
       "      <td>Camry</td>\n",
       "      <td>1995</td>\n",
       "    </tr>\n",
       "    <tr>\n",
       "      <th>2</th>\n",
       "      <td>7184TT36RUS</td>\n",
       "      <td>1</td>\n",
       "      <td>2100.0</td>\n",
       "      <td>Ford</td>\n",
       "      <td>Focus</td>\n",
       "      <td>1984</td>\n",
       "    </tr>\n",
       "    <tr>\n",
       "      <th>3</th>\n",
       "      <td>X582HE161RUS</td>\n",
       "      <td>2</td>\n",
       "      <td>2000.0</td>\n",
       "      <td>Ford</td>\n",
       "      <td>Focus</td>\n",
       "      <td>2015</td>\n",
       "    </tr>\n",
       "    <tr>\n",
       "      <th>4</th>\n",
       "      <td>92918M178RUS</td>\n",
       "      <td>1</td>\n",
       "      <td>5700.0</td>\n",
       "      <td>Ford</td>\n",
       "      <td>Focus</td>\n",
       "      <td>2014</td>\n",
       "    </tr>\n",
       "  </tbody>\n",
       "</table>\n",
       "</div>"
      ],
      "text/plain": [
       "      CarNumber  Refund   Fines    Make  Model  Year\n",
       "0  Y163O8161RUS       2  3200.0    Ford  Focus  1989\n",
       "1   E432XX77RUS       1  6500.0  Toyota  Camry  1995\n",
       "2   7184TT36RUS       1  2100.0    Ford  Focus  1984\n",
       "3  X582HE161RUS       2  2000.0    Ford  Focus  2015\n",
       "4  92918M178RUS       1  5700.0    Ford  Focus  2014"
      ]
     },
     "execution_count": 3,
     "metadata": {},
     "output_type": "execute_result"
    }
   ],
   "source": [
    "df = pd.read_csv('../data/fines.csv')\n",
    "df.head()"
   ]
  },
  {
   "cell_type": "markdown",
   "id": "a3908fae",
   "metadata": {},
   "source": [
    "## Iterations: in all the following subtasks, you need to calculate fines/refund*year for each row and create a new column with the calculated data and measure the time using the magic command %%timeit in the cell"
   ]
  },
  {
   "cell_type": "markdown",
   "id": "b6732a0f",
   "metadata": {},
   "source": [
    "## Loop: \n",
    "- write a function that iterates through the dataframe using for i in range(0, len(df)), iloc and append() to a list, assign the result of the function to a new column in the dataframe"
   ]
  },
  {
   "cell_type": "code",
   "execution_count": 4,
   "id": "72f9db41",
   "metadata": {},
   "outputs": [],
   "source": [
    "def iterations_loop_test(df):\n",
    "    result = []\n",
    "    for i in range(0, len(df)):\n",
    "        result.append(df.iloc[i]['Fines'] / df.iloc[i]['Refund'] * df.iloc[i]['Year'])\n",
    "    df['Calculated'] = result"
   ]
  },
  {
   "cell_type": "code",
   "execution_count": 10,
   "id": "c15e308f",
   "metadata": {},
   "outputs": [
    {
     "name": "stdout",
     "output_type": "stream",
     "text": [
      "151 ms ± 1.41 ms per loop (mean ± std. dev. of 7 runs, 10 loops each)\n"
     ]
    }
   ],
   "source": [
    "%%timeit\n",
    "\n",
    "iterations_loop_test(df)\n",
    "df"
   ]
  },
  {
   "cell_type": "markdown",
   "id": "7d992a4d",
   "metadata": {},
   "source": [
    "- Do it using iterrows()"
   ]
  },
  {
   "cell_type": "code",
   "execution_count": 6,
   "id": "4d8caf15",
   "metadata": {},
   "outputs": [],
   "source": [
    "def iterations_iterrows_test(df):\n",
    "    result = []\n",
    "    for row in df.iterrows():\n",
    "        result.append(row[1]['Fines'] / row[1]['Refund'] * row[1]['Year'])\n",
    "    df['Calculated'] = result"
   ]
  },
  {
   "cell_type": "code",
   "execution_count": 7,
   "id": "deb42aa5",
   "metadata": {},
   "outputs": [
    {
     "name": "stdout",
     "output_type": "stream",
     "text": [
      "30.1 ms ± 396 µs per loop (mean ± std. dev. of 7 runs, 10 loops each)\n"
     ]
    }
   ],
   "source": [
    "%%timeit\n",
    "\n",
    "iterations_iterrows_test(df)\n",
    "df"
   ]
  },
  {
   "cell_type": "markdown",
   "id": "6551d8b4",
   "metadata": {},
   "source": [
    "- Do it using apply() and lambda function"
   ]
  },
  {
   "cell_type": "code",
   "execution_count": 15,
   "id": "718543d0",
   "metadata": {},
   "outputs": [],
   "source": [
    "def iterations_apply_test(df):\n",
    "    df['Calculated'] = df.apply(lambda row: row['Fines'] /\n",
    "                                row['Refund'] * row['Year'],\n",
    "                                axis='columns')"
   ]
  },
  {
   "cell_type": "code",
   "execution_count": 16,
   "id": "88de246e",
   "metadata": {},
   "outputs": [
    {
     "name": "stdout",
     "output_type": "stream",
     "text": [
      "6.89 ms ± 9.73 µs per loop (mean ± std. dev. of 7 runs, 100 loops each)\n"
     ]
    }
   ],
   "source": [
    "%%timeit\n",
    "\n",
    "iterations_apply_test(df)\n",
    "df"
   ]
  },
  {
   "cell_type": "markdown",
   "id": "e183a201",
   "metadata": {},
   "source": [
    "- Do it using Series objects from the dataframe"
   ]
  },
  {
   "cell_type": "code",
   "execution_count": 17,
   "id": "4fa5b433",
   "metadata": {},
   "outputs": [],
   "source": [
    "def iterations_series_test(df):\n",
    "    df['Calculated'] = df['Fines'] / df['Refund'] * df['Year']"
   ]
  },
  {
   "cell_type": "code",
   "execution_count": 18,
   "id": "6db7cfb8",
   "metadata": {},
   "outputs": [
    {
     "name": "stdout",
     "output_type": "stream",
     "text": [
      "188 µs ± 4.88 µs per loop (mean ± std. dev. of 7 runs, 1,000 loops each)\n"
     ]
    }
   ],
   "source": [
    "%%timeit\n",
    "\n",
    "iterations_series_test(df)\n",
    "df"
   ]
  },
  {
   "cell_type": "markdown",
   "id": "60accec3",
   "metadata": {},
   "source": [
    "- Do it as in the previous subtask but with the method .values"
   ]
  },
  {
   "cell_type": "code",
   "execution_count": 19,
   "id": "8509725f",
   "metadata": {},
   "outputs": [],
   "source": [
    "def iterations_series_values_test(df):\n",
    "    df['Calculated'] = df['Fines'].values / df['Refund'].values * df['Year'].values"
   ]
  },
  {
   "cell_type": "code",
   "execution_count": 20,
   "id": "027d4dcd",
   "metadata": {},
   "outputs": [
    {
     "name": "stdout",
     "output_type": "stream",
     "text": [
      "82.7 µs ± 1.24 µs per loop (mean ± std. dev. of 7 runs, 10,000 loops each)\n"
     ]
    }
   ],
   "source": [
    "%%timeit\n",
    "\n",
    "iterations_series_values_test(df)\n",
    "df"
   ]
  },
  {
   "cell_type": "markdown",
   "id": "c6fe2ab1",
   "metadata": {},
   "source": [
    "## Indexing:\n",
    "- Measure the time using the magic command %%timeit in the cell\n",
    "- Get a row for a specific CarNumber, for example, ’O136HO197RUS’"
   ]
  },
  {
   "cell_type": "code",
   "execution_count": 21,
   "id": "c5fce046",
   "metadata": {},
   "outputs": [
    {
     "name": "stdout",
     "output_type": "stream",
     "text": [
      "198 µs ± 5.85 µs per loop (mean ± std. dev. of 7 runs, 1,000 loops each)\n"
     ]
    }
   ],
   "source": [
    "%%timeit\n",
    "\n",
    "df[df['CarNumber'] == 'O136HO197RUS']"
   ]
  },
  {
   "cell_type": "markdown",
   "id": "64da9409",
   "metadata": {},
   "source": [
    "- Set the index in your dataframe with CarNumber"
   ]
  },
  {
   "cell_type": "code",
   "execution_count": 25,
   "id": "13e3d472",
   "metadata": {},
   "outputs": [
    {
     "data": {
      "text/html": [
       "<div>\n",
       "<style scoped>\n",
       "    .dataframe tbody tr th:only-of-type {\n",
       "        vertical-align: middle;\n",
       "    }\n",
       "\n",
       "    .dataframe tbody tr th {\n",
       "        vertical-align: top;\n",
       "    }\n",
       "\n",
       "    .dataframe thead th {\n",
       "        text-align: right;\n",
       "    }\n",
       "</style>\n",
       "<table border=\"1\" class=\"dataframe\">\n",
       "  <thead>\n",
       "    <tr style=\"text-align: right;\">\n",
       "      <th></th>\n",
       "      <th>Refund</th>\n",
       "      <th>Fines</th>\n",
       "      <th>Make</th>\n",
       "      <th>Model</th>\n",
       "      <th>Year</th>\n",
       "      <th>Calculated</th>\n",
       "    </tr>\n",
       "    <tr>\n",
       "      <th>CarNumber</th>\n",
       "      <th></th>\n",
       "      <th></th>\n",
       "      <th></th>\n",
       "      <th></th>\n",
       "      <th></th>\n",
       "      <th></th>\n",
       "    </tr>\n",
       "  </thead>\n",
       "  <tbody>\n",
       "    <tr>\n",
       "      <th>Y163O8161RUS</th>\n",
       "      <td>2</td>\n",
       "      <td>3200.0</td>\n",
       "      <td>Ford</td>\n",
       "      <td>Focus</td>\n",
       "      <td>1989</td>\n",
       "      <td>3.182400e+06</td>\n",
       "    </tr>\n",
       "    <tr>\n",
       "      <th>E432XX77RUS</th>\n",
       "      <td>1</td>\n",
       "      <td>6500.0</td>\n",
       "      <td>Toyota</td>\n",
       "      <td>Camry</td>\n",
       "      <td>1995</td>\n",
       "      <td>1.296750e+07</td>\n",
       "    </tr>\n",
       "    <tr>\n",
       "      <th>7184TT36RUS</th>\n",
       "      <td>1</td>\n",
       "      <td>2100.0</td>\n",
       "      <td>Ford</td>\n",
       "      <td>Focus</td>\n",
       "      <td>1984</td>\n",
       "      <td>4.166400e+06</td>\n",
       "    </tr>\n",
       "    <tr>\n",
       "      <th>X582HE161RUS</th>\n",
       "      <td>2</td>\n",
       "      <td>2000.0</td>\n",
       "      <td>Ford</td>\n",
       "      <td>Focus</td>\n",
       "      <td>2015</td>\n",
       "      <td>2.015000e+06</td>\n",
       "    </tr>\n",
       "    <tr>\n",
       "      <th>92918M178RUS</th>\n",
       "      <td>1</td>\n",
       "      <td>5700.0</td>\n",
       "      <td>Ford</td>\n",
       "      <td>Focus</td>\n",
       "      <td>2014</td>\n",
       "      <td>1.147980e+07</td>\n",
       "    </tr>\n",
       "    <tr>\n",
       "      <th>...</th>\n",
       "      <td>...</td>\n",
       "      <td>...</td>\n",
       "      <td>...</td>\n",
       "      <td>...</td>\n",
       "      <td>...</td>\n",
       "      <td>...</td>\n",
       "    </tr>\n",
       "    <tr>\n",
       "      <th>K089PY178RUS</th>\n",
       "      <td>1</td>\n",
       "      <td>1234.0</td>\n",
       "      <td>Ford</td>\n",
       "      <td>Mustang</td>\n",
       "      <td>1969</td>\n",
       "      <td>2.429746e+06</td>\n",
       "    </tr>\n",
       "    <tr>\n",
       "      <th>C718MC178RUS</th>\n",
       "      <td>2</td>\n",
       "      <td>4321.0</td>\n",
       "      <td>Ford</td>\n",
       "      <td>Mustang</td>\n",
       "      <td>1969</td>\n",
       "      <td>4.254024e+06</td>\n",
       "    </tr>\n",
       "    <tr>\n",
       "      <th>K361KA178RUS</th>\n",
       "      <td>3</td>\n",
       "      <td>2345.0</td>\n",
       "      <td>Ford</td>\n",
       "      <td>Mustang</td>\n",
       "      <td>1969</td>\n",
       "      <td>1.539102e+06</td>\n",
       "    </tr>\n",
       "    <tr>\n",
       "      <th>O432AB178RUS</th>\n",
       "      <td>4</td>\n",
       "      <td>5432.0</td>\n",
       "      <td>Ford</td>\n",
       "      <td>Mustang</td>\n",
       "      <td>1969</td>\n",
       "      <td>2.673902e+06</td>\n",
       "    </tr>\n",
       "    <tr>\n",
       "      <th>X023HA178RUS</th>\n",
       "      <td>5</td>\n",
       "      <td>2121.0</td>\n",
       "      <td>Ford</td>\n",
       "      <td>Mustang</td>\n",
       "      <td>1969</td>\n",
       "      <td>8.352498e+05</td>\n",
       "    </tr>\n",
       "  </tbody>\n",
       "</table>\n",
       "<p>930 rows × 6 columns</p>\n",
       "</div>"
      ],
      "text/plain": [
       "              Refund   Fines    Make    Model  Year    Calculated\n",
       "CarNumber                                                        \n",
       "Y163O8161RUS       2  3200.0    Ford    Focus  1989  3.182400e+06\n",
       "E432XX77RUS        1  6500.0  Toyota    Camry  1995  1.296750e+07\n",
       "7184TT36RUS        1  2100.0    Ford    Focus  1984  4.166400e+06\n",
       "X582HE161RUS       2  2000.0    Ford    Focus  2015  2.015000e+06\n",
       "92918M178RUS       1  5700.0    Ford    Focus  2014  1.147980e+07\n",
       "...              ...     ...     ...      ...   ...           ...\n",
       "K089PY178RUS       1  1234.0    Ford  Mustang  1969  2.429746e+06\n",
       "C718MC178RUS       2  4321.0    Ford  Mustang  1969  4.254024e+06\n",
       "K361KA178RUS       3  2345.0    Ford  Mustang  1969  1.539102e+06\n",
       "O432AB178RUS       4  5432.0    Ford  Mustang  1969  2.673902e+06\n",
       "X023HA178RUS       5  2121.0    Ford  Mustang  1969  8.352498e+05\n",
       "\n",
       "[930 rows x 6 columns]"
      ]
     },
     "execution_count": 25,
     "metadata": {},
     "output_type": "execute_result"
    }
   ],
   "source": [
    "df.set_index('CarNumber', inplace=True)\n",
    "df"
   ]
  },
  {
   "cell_type": "markdown",
   "id": "bc1c1cd1",
   "metadata": {},
   "source": [
    "- Again, get a row for the same CarNumber"
   ]
  },
  {
   "cell_type": "code",
   "execution_count": 27,
   "id": "96d702ad",
   "metadata": {},
   "outputs": [
    {
     "name": "stdout",
     "output_type": "stream",
     "text": [
      "94.3 µs ± 1.79 µs per loop (mean ± std. dev. of 7 runs, 10,000 loops each)\n"
     ]
    }
   ],
   "source": [
    "%%timeit\n",
    "\n",
    "df.loc['O136HO197RUS']"
   ]
  },
  {
   "cell_type": "markdown",
   "id": "ff32d591",
   "metadata": {},
   "source": [
    "## Downcasting:\n",
    "- Run df.info(memory_usage=’deep’), pay attention to the Dtype and the memory usage"
   ]
  },
  {
   "cell_type": "code",
   "execution_count": 28,
   "id": "25a70988",
   "metadata": {},
   "outputs": [
    {
     "name": "stdout",
     "output_type": "stream",
     "text": [
      "<class 'pandas.core.frame.DataFrame'>\n",
      "Index: 930 entries, Y163O8161RUS to X023HA178RUS\n",
      "Data columns (total 6 columns):\n",
      " #   Column      Non-Null Count  Dtype  \n",
      "---  ------      --------------  -----  \n",
      " 0   Refund      930 non-null    int64  \n",
      " 1   Fines       930 non-null    float64\n",
      " 2   Make        930 non-null    object \n",
      " 3   Model       919 non-null    object \n",
      " 4   Year        930 non-null    int64  \n",
      " 5   Calculated  930 non-null    float64\n",
      "dtypes: float64(2), int64(2), object(2)\n",
      "memory usage: 236.0 KB\n"
     ]
    }
   ],
   "source": [
    "df.info(memory_usage='deep')"
   ]
  },
  {
   "cell_type": "markdown",
   "id": "904de76d",
   "metadata": {},
   "source": [
    "- Make a copy() of your initial dataframe into another dataframe optimized\n",
    "- Downcast from float64 to float32 for all the columns\n",
    "- Downcast from int64 to the smallest numerical dtype possible"
   ]
  },
  {
   "cell_type": "code",
   "execution_count": 33,
   "id": "a38c217b",
   "metadata": {},
   "outputs": [],
   "source": [
    "copy = df.copy()\n",
    "fcols = copy.select_dtypes('float').columns\n",
    "icols = copy.select_dtypes('integer').columns\n",
    "\n",
    "copy[fcols] = copy[fcols].apply(pd.to_numeric, downcast='float')\n",
    "copy[icols] = copy[icols].apply(pd.to_numeric, downcast='integer')"
   ]
  },
  {
   "cell_type": "markdown",
   "id": "3768d749",
   "metadata": {},
   "source": [
    "- Run info(memory_usage=’deep’) for your new dataframe, pay attention to the Dtype and the memory usage"
   ]
  },
  {
   "cell_type": "code",
   "execution_count": 34,
   "id": "f5f0b018",
   "metadata": {},
   "outputs": [
    {
     "name": "stdout",
     "output_type": "stream",
     "text": [
      "<class 'pandas.core.frame.DataFrame'>\n",
      "Index: 930 entries, Y163O8161RUS to X023HA178RUS\n",
      "Data columns (total 6 columns):\n",
      " #   Column      Non-Null Count  Dtype  \n",
      "---  ------      --------------  -----  \n",
      " 0   Refund      930 non-null    int8   \n",
      " 1   Fines       930 non-null    float32\n",
      " 2   Make        930 non-null    object \n",
      " 3   Model       919 non-null    object \n",
      " 4   Year        930 non-null    int16  \n",
      " 5   Calculated  930 non-null    float64\n",
      "dtypes: float32(1), float64(1), int16(1), int8(1), object(2)\n",
      "memory usage: 220.6 KB\n"
     ]
    }
   ],
   "source": [
    "copy.info(memory_usage='deep')"
   ]
  },
  {
   "cell_type": "markdown",
   "id": "1bf07d58",
   "metadata": {},
   "source": [
    "## Categories:\n",
    "- Change the object type columns to the type category"
   ]
  },
  {
   "cell_type": "code",
   "execution_count": 35,
   "id": "8f11d397",
   "metadata": {},
   "outputs": [],
   "source": [
    "df[df.select_dtypes(['object']).columns] = df.select_dtypes(['object']).apply(lambda x: x.astype('category'))"
   ]
  },
  {
   "cell_type": "markdown",
   "id": "a800caf2",
   "metadata": {},
   "source": [
    "- This time, check the memory usage, it probably has a decrease of 2-3 times compared to the initial dataframe"
   ]
  },
  {
   "cell_type": "code",
   "execution_count": 36,
   "id": "1a75ed2c",
   "metadata": {},
   "outputs": [
    {
     "name": "stdout",
     "output_type": "stream",
     "text": [
      "<class 'pandas.core.frame.DataFrame'>\n",
      "Index: 930 entries, Y163O8161RUS to X023HA178RUS\n",
      "Data columns (total 6 columns):\n",
      " #   Column      Non-Null Count  Dtype   \n",
      "---  ------      --------------  -----   \n",
      " 0   Refund      930 non-null    int64   \n",
      " 1   Fines       930 non-null    float64 \n",
      " 2   Make        930 non-null    category\n",
      " 3   Model       919 non-null    category\n",
      " 4   Year        930 non-null    int64   \n",
      " 5   Calculated  930 non-null    float64 \n",
      "dtypes: category(2), float64(2), int64(2)\n",
      "memory usage: 127.3 KB\n"
     ]
    }
   ],
   "source": [
    "df.info(memory_usage='deep')"
   ]
  },
  {
   "cell_type": "markdown",
   "id": "98d21fc5",
   "metadata": {},
   "source": [
    "## Memory clean"
   ]
  },
  {
   "cell_type": "markdown",
   "id": "473831d0",
   "metadata": {},
   "source": [
    "- using %reset_selective and the library gc clean the memory of your initial dataframe only"
   ]
  },
  {
   "cell_type": "code",
   "execution_count": 37,
   "id": "9e60cf9b",
   "metadata": {},
   "outputs": [
    {
     "name": "stdout",
     "output_type": "stream",
     "text": [
      "Once deleted, variables cannot be recovered. Proceed (y/[n])?  y\n"
     ]
    },
    {
     "data": {
      "text/plain": [
       "2641"
      ]
     },
     "execution_count": 37,
     "metadata": {},
     "output_type": "execute_result"
    }
   ],
   "source": [
    "%reset_selective df\n",
    "\n",
    "gc.collect()"
   ]
  }
 ],
 "metadata": {
  "kernelspec": {
   "display_name": "Python 3 (ipykernel)",
   "language": "python",
   "name": "python3"
  },
  "language_info": {
   "codemirror_mode": {
    "name": "ipython",
    "version": 3
   },
   "file_extension": ".py",
   "mimetype": "text/x-python",
   "name": "python",
   "nbconvert_exporter": "python",
   "pygments_lexer": "ipython3",
   "version": "3.8.10"
  }
 },
 "nbformat": 4,
 "nbformat_minor": 5
}
