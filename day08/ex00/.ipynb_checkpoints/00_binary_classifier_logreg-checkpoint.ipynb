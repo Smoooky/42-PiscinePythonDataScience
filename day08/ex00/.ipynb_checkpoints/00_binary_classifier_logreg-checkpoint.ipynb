{
 "cells": [
  {
   "cell_type": "markdown",
   "metadata": {},
   "source": [
    "# Day 08. Exercise 00\n",
    "# Binary classifier. Logistic regression"
   ]
  },
  {
   "cell_type": "markdown",
   "metadata": {},
   "source": [
    "## 0. Imports"
   ]
  },
  {
   "cell_type": "code",
   "execution_count": 1,
   "metadata": {},
   "outputs": [],
   "source": [
    "import pandas as pd\n",
    "import seaborn as sns\n",
    "import numpy as np\n",
    "from sklearn.linear_model import LogisticRegression\n",
    "from sklearn import metrics"
   ]
  },
  {
   "cell_type": "markdown",
   "metadata": {},
   "source": [
    "## 1. Preprocessing"
   ]
  },
  {
   "cell_type": "markdown",
   "metadata": {},
   "source": [
    "- Get the data from the file [`checker-timestamp.csv`](https://drive.google.com/file/d/1pooM4cITtG249msX3GK_6W0eEiblzAf5/view?usp=sharing).\n",
    "\n",
    "\n",
    "- Create a dataframe `df` with the columns: `date`, `am`, `pm`, `target`, where `date` is the date of the day, `am` is the number of the commits during the day before midday (integer), `pm` is the number of commits during the day after midday (integer), `target` is weekend/working_day."
   ]
  },
  {
   "cell_type": "code",
   "execution_count": 2,
   "metadata": {},
   "outputs": [
    {
     "name": "stdout",
     "output_type": "stream",
     "text": [
      "<class 'pandas.core.frame.DataFrame'>\n",
      "RangeIndex: 3207 entries, 0 to 3206\n",
      "Data columns (total 1 columns):\n",
      " #   Column     Non-Null Count  Dtype         \n",
      "---  ------     --------------  -----         \n",
      " 0   timestamp  3207 non-null   datetime64[ns]\n",
      "dtypes: datetime64[ns](1)\n",
      "memory usage: 25.2 KB\n"
     ]
    }
   ],
   "source": [
    "df = pd.read_csv('../data/checker_timestamp.csv',  parse_dates=['timestamp'])\n",
    "df.info()"
   ]
  },
  {
   "cell_type": "code",
   "execution_count": 3,
   "metadata": {},
   "outputs": [
    {
     "data": {
      "text/html": [
       "<div>\n",
       "<style scoped>\n",
       "    .dataframe tbody tr th:only-of-type {\n",
       "        vertical-align: middle;\n",
       "    }\n",
       "\n",
       "    .dataframe tbody tr th {\n",
       "        vertical-align: top;\n",
       "    }\n",
       "\n",
       "    .dataframe thead th {\n",
       "        text-align: right;\n",
       "    }\n",
       "</style>\n",
       "<table border=\"1\" class=\"dataframe\">\n",
       "  <thead>\n",
       "    <tr style=\"text-align: right;\">\n",
       "      <th>timestamp</th>\n",
       "      <th>am</th>\n",
       "      <th>pm</th>\n",
       "      <th>target</th>\n",
       "    </tr>\n",
       "    <tr>\n",
       "      <th>date</th>\n",
       "      <th></th>\n",
       "      <th></th>\n",
       "      <th></th>\n",
       "    </tr>\n",
       "  </thead>\n",
       "  <tbody>\n",
       "    <tr>\n",
       "      <th>2020-04-17</th>\n",
       "      <td>21</td>\n",
       "      <td>2</td>\n",
       "      <td>working_day</td>\n",
       "    </tr>\n",
       "    <tr>\n",
       "      <th>2020-04-18</th>\n",
       "      <td>1</td>\n",
       "      <td>68</td>\n",
       "      <td>weekend</td>\n",
       "    </tr>\n",
       "    <tr>\n",
       "      <th>2020-04-19</th>\n",
       "      <td>18</td>\n",
       "      <td>15</td>\n",
       "      <td>weekend</td>\n",
       "    </tr>\n",
       "    <tr>\n",
       "      <th>2020-04-20</th>\n",
       "      <td>2</td>\n",
       "      <td>23</td>\n",
       "      <td>working_day</td>\n",
       "    </tr>\n",
       "    <tr>\n",
       "      <th>2020-04-21</th>\n",
       "      <td>0</td>\n",
       "      <td>25</td>\n",
       "      <td>working_day</td>\n",
       "    </tr>\n",
       "  </tbody>\n",
       "</table>\n",
       "</div>"
      ],
      "text/plain": [
       "timestamp   am  pm       target\n",
       "date                           \n",
       "2020-04-17  21   2  working_day\n",
       "2020-04-18   1  68      weekend\n",
       "2020-04-19  18  15      weekend\n",
       "2020-04-20   2  23  working_day\n",
       "2020-04-21   0  25  working_day"
      ]
     },
     "execution_count": 3,
     "metadata": {},
     "output_type": "execute_result"
    }
   ],
   "source": [
    "df = df.groupby(by=[df['timestamp'].dt.date, \n",
    "                    df['timestamp'].dt.hour >= 12]).count().unstack()\n",
    "df = df.droplevel(0, axis='columns')\n",
    "df.rename(columns={False: 'am', True: 'pm'}, inplace=True)\n",
    "df.index.name = 'date'\n",
    "df.index = pd.to_datetime(df.index)\n",
    "df = df.fillna(0)\n",
    "df = df.astype({'am': int, 'pm': int})\n",
    "df['target'] = df.reset_index()['date'].dt.weekday.apply(lambda weekday: 'weekend' if weekday > 4 else 'working_day').values\n",
    "df.head()"
   ]
  },
  {
   "cell_type": "markdown",
   "metadata": {},
   "source": [
    "## 2. Exploratory analysis"
   ]
  },
  {
   "cell_type": "markdown",
   "metadata": {},
   "source": [
    "- Create a plot where `x` is am, `y` is pm, each dot is a day, working days and weekends must have different colors.\n",
    "\n",
    "\n",
    "- By looking at the graph do you think it will be easy to classify the days having those two features? Put your answer in the markdown cell in the end of that sectioin: \"yes, it is easy\" or \"no, it is not easy\"."
   ]
  },
  {
   "cell_type": "code",
   "execution_count": 4,
   "metadata": {},
   "outputs": [
    {
     "data": {
      "text/plain": [
       "<AxesSubplot: xlabel='am', ylabel='pm'>"
      ]
     },
     "execution_count": 4,
     "metadata": {},
     "output_type": "execute_result"
    },
    {
     "data": {
      "image/png": "[encoded data removed]",
      "text/plain": [
       "<Figure size 640x480 with 1 Axes>"
      ]
     },
     "metadata": {},
     "output_type": "display_data"
    }
   ],
   "source": [
    "sns.scatterplot(x='am',y='pm', data=df, hue='target', s=150, palette=['C0', 'C1'])"
   ]
  },
  {
   "cell_type": "markdown",
   "metadata": {},
   "source": [
    "### no, it is not easy"
   ]
  },
  {
   "cell_type": "markdown",
   "metadata": {},
   "source": [
    "## 3. Logistic regression"
   ]
  },
  {
   "cell_type": "markdown",
   "metadata": {},
   "source": [
    "- Train logistic regression on your data using `am` and `pm`, parameters are: `random state=21`, `fit_intercept=False`.\n",
    "\n",
    "\n",
    "- Make predictions for every day of your dataset and add them to your dataframe with the column name `predict`.\n",
    "\n",
    "\n",
    "- Save the dataframe into a file in the subfolder of the day `data` with the name `am_pm.csv`.\n",
    "\n",
    "\n",
    "- Draw another plot like you did before, but the color should be taken from the `predict`.\n",
    "\n",
    "\n",
    "- By looking at the graph do you think if it made good predictions? Put your answer in the markdown cell in the end of that section: \"yes, it is good\"; \"no, it is not good\"."
   ]
  },
  {
   "cell_type": "code",
   "execution_count": 5,
   "metadata": {},
   "outputs": [],
   "source": [
    "X = df[['am', 'pm']]\n",
    "y = df['target']\n",
    "lr = LogisticRegression(random_state=21, fit_intercept=False).fit(X,y)\n",
    "df['predict'] = lr.predict(X)"
   ]
  },
  {
   "cell_type": "code",
   "execution_count": 6,
   "metadata": {},
   "outputs": [
    {
     "data": {
      "text/html": [
       "<div>\n",
       "<style scoped>\n",
       "    .dataframe tbody tr th:only-of-type {\n",
       "        vertical-align: middle;\n",
       "    }\n",
       "\n",
       "    .dataframe tbody tr th {\n",
       "        vertical-align: top;\n",
       "    }\n",
       "\n",
       "    .dataframe thead th {\n",
       "        text-align: right;\n",
       "    }\n",
       "</style>\n",
       "<table border=\"1\" class=\"dataframe\">\n",
       "  <thead>\n",
       "    <tr style=\"text-align: right;\">\n",
       "      <th>timestamp</th>\n",
       "      <th>am</th>\n",
       "      <th>pm</th>\n",
       "      <th>target</th>\n",
       "      <th>predict</th>\n",
       "    </tr>\n",
       "    <tr>\n",
       "      <th>date</th>\n",
       "      <th></th>\n",
       "      <th></th>\n",
       "      <th></th>\n",
       "      <th></th>\n",
       "    </tr>\n",
       "  </thead>\n",
       "  <tbody>\n",
       "    <tr>\n",
       "      <th>2020-04-17</th>\n",
       "      <td>21</td>\n",
       "      <td>2</td>\n",
       "      <td>working_day</td>\n",
       "      <td>weekend</td>\n",
       "    </tr>\n",
       "    <tr>\n",
       "      <th>2020-04-18</th>\n",
       "      <td>1</td>\n",
       "      <td>68</td>\n",
       "      <td>weekend</td>\n",
       "      <td>working_day</td>\n",
       "    </tr>\n",
       "    <tr>\n",
       "      <th>2020-04-19</th>\n",
       "      <td>18</td>\n",
       "      <td>15</td>\n",
       "      <td>weekend</td>\n",
       "      <td>working_day</td>\n",
       "    </tr>\n",
       "    <tr>\n",
       "      <th>2020-04-20</th>\n",
       "      <td>2</td>\n",
       "      <td>23</td>\n",
       "      <td>working_day</td>\n",
       "      <td>working_day</td>\n",
       "    </tr>\n",
       "    <tr>\n",
       "      <th>2020-04-21</th>\n",
       "      <td>0</td>\n",
       "      <td>25</td>\n",
       "      <td>working_day</td>\n",
       "      <td>working_day</td>\n",
       "    </tr>\n",
       "  </tbody>\n",
       "</table>\n",
       "</div>"
      ],
      "text/plain": [
       "timestamp   am  pm       target      predict\n",
       "date                                        \n",
       "2020-04-17  21   2  working_day      weekend\n",
       "2020-04-18   1  68      weekend  working_day\n",
       "2020-04-19  18  15      weekend  working_day\n",
       "2020-04-20   2  23  working_day  working_day\n",
       "2020-04-21   0  25  working_day  working_day"
      ]
     },
     "execution_count": 6,
     "metadata": {},
     "output_type": "execute_result"
    }
   ],
   "source": [
    "df.head()"
   ]
  },
  {
   "cell_type": "code",
   "execution_count": 7,
   "metadata": {},
   "outputs": [],
   "source": [
    "df.to_csv('../data/am_pm.csv')"
   ]
  },
  {
   "cell_type": "code",
   "execution_count": 8,
   "metadata": {},
   "outputs": [
    {
     "data": {
      "text/plain": [
       "<AxesSubplot: xlabel='am', ylabel='pm'>"
      ]
     },
     "execution_count": 8,
     "metadata": {},
     "output_type": "execute_result"
    },
    {
     "data": {
      "image/png": "[encoded data removed]",
      "text/plain": [
       "<Figure size 640x480 with 1 Axes>"
      ]
     },
     "metadata": {},
     "output_type": "display_data"
    }
   ],
   "source": [
    "sns.scatterplot(x='am',y='pm', data=df, hue='predict', s=150, palette=['C1', 'C0'])"
   ]
  },
  {
   "cell_type": "markdown",
   "metadata": {},
   "source": [
    "### no, it is not good"
   ]
  },
  {
   "cell_type": "markdown",
   "metadata": {},
   "source": [
    "## 4. Evaluation"
   ]
  },
  {
   "cell_type": "markdown",
   "metadata": {},
   "source": [
    "- Calculate `accuracy` for your predictions.\n",
    "\n",
    "\n",
    "- Calculate `accuracy` for the naive case when each of your prediction is the value of your most popular class of the day.\n",
    "\n",
    "\n",
    "- Comparing the accuracies do you think that the classifier made good predictions? Put your answer in the markdown cell in the end of the secion: \"yes, it is good\"; \"no, it is not good\"."
   ]
  },
  {
   "cell_type": "code",
   "execution_count": 9,
   "metadata": {},
   "outputs": [
    {
     "name": "stdout",
     "output_type": "stream",
     "text": [
      "Accuracy: 0.6285714285714286\n"
     ]
    }
   ],
   "source": [
    "print(\"Accuracy:\",metrics.accuracy_score(df['target'], df['predict']))"
   ]
  },
  {
   "cell_type": "code",
   "execution_count": 10,
   "metadata": {},
   "outputs": [
    {
     "name": "stdout",
     "output_type": "stream",
     "text": [
      "Accuracy of working days prediction: 0.7142857142857143\n"
     ]
    }
   ],
   "source": [
    "naive_predict = np.full(df['target'].shape, df['target'].value_counts().idxmax())\n",
    "print(\"Accuracy:\",metrics.accuracy_score(df['target'], naive_predict))"
   ]
  }
 ],
 "metadata": {
  "kernelspec": {
   "display_name": "Python 3 (ipykernel)",
   "language": "python",
   "name": "python3"
  },
  "language_info": {
   "codemirror_mode": {
    "name": "ipython",
    "version": 3
   },
   "file_extension": ".py",
   "mimetype": "text/x-python",
   "name": "python",
   "nbconvert_exporter": "python",
   "pygments_lexer": "ipython3",
   "version": "3.8.10"
  }
 },
 "nbformat": 4,
 "nbformat_minor": 4
}
